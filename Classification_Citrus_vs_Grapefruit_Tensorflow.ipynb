{
  "nbformat": 4,
  "nbformat_minor": 0,
  "metadata": {
    "colab": {
      "name": "Classification Citrus vs Grapefruit - Tensorflow.ipynb",
      "provenance": [],
      "authorship_tag": "ABX9TyOdFHNj+S758Kh35PGW0G43",
      "include_colab_link": true
    },
    "kernelspec": {
      "name": "python3",
      "display_name": "Python 3"
    },
    "language_info": {
      "name": "python"
    }
  },
  "cells": [
    {
      "cell_type": "markdown",
      "metadata": {
        "id": "view-in-github",
        "colab_type": "text"
      },
      "source": [
        "<a href=\"https://colab.research.google.com/github/ReynaraEzra/Classification-Tensorflow/blob/main/Classification_Citrus_vs_Grapefruit_Tensorflow.ipynb\" target=\"_parent\"><img src=\"https://colab.research.google.com/assets/colab-badge.svg\" alt=\"Open In Colab\"/></a>"
      ]
    },
    {
      "cell_type": "code",
      "metadata": {
        "id": "Cii05NPavZkP"
      },
      "source": [
        "import pandas as pd\n",
        "import numpy as np\n",
        "import tensorflow as tf\n",
        "from google.colab import files"
      ],
      "execution_count": 1,
      "outputs": []
    },
    {
      "cell_type": "code",
      "metadata": {
        "colab": {
          "base_uri": "https://localhost:8080/"
        },
        "id": "E8KqWK7Yv8B7",
        "outputId": "6e646ce5-73f3-4f6d-a259-29036839b544"
      },
      "source": [
        "!pip install ipython-autotime\n",
        "%load_ext autotime"
      ],
      "execution_count": 2,
      "outputs": [
        {
          "output_type": "stream",
          "text": [
            "Requirement already satisfied: ipython-autotime in /usr/local/lib/python3.7/dist-packages (0.3.1)\n",
            "Requirement already satisfied: ipython in /usr/local/lib/python3.7/dist-packages (from ipython-autotime) (5.5.0)\n",
            "Requirement already satisfied: simplegeneric>0.8 in /usr/local/lib/python3.7/dist-packages (from ipython->ipython-autotime) (0.8.1)\n",
            "Requirement already satisfied: prompt-toolkit<2.0.0,>=1.0.4 in /usr/local/lib/python3.7/dist-packages (from ipython->ipython-autotime) (1.0.18)\n",
            "Requirement already satisfied: setuptools>=18.5 in /usr/local/lib/python3.7/dist-packages (from ipython->ipython-autotime) (57.0.0)\n",
            "Requirement already satisfied: decorator in /usr/local/lib/python3.7/dist-packages (from ipython->ipython-autotime) (4.4.2)\n",
            "Requirement already satisfied: pickleshare in /usr/local/lib/python3.7/dist-packages (from ipython->ipython-autotime) (0.7.5)\n",
            "Requirement already satisfied: pexpect; sys_platform != \"win32\" in /usr/local/lib/python3.7/dist-packages (from ipython->ipython-autotime) (4.8.0)\n",
            "Requirement already satisfied: pygments in /usr/local/lib/python3.7/dist-packages (from ipython->ipython-autotime) (2.6.1)\n",
            "Requirement already satisfied: traitlets>=4.2 in /usr/local/lib/python3.7/dist-packages (from ipython->ipython-autotime) (5.0.5)\n",
            "Requirement already satisfied: six>=1.9.0 in /usr/local/lib/python3.7/dist-packages (from prompt-toolkit<2.0.0,>=1.0.4->ipython->ipython-autotime) (1.15.0)\n",
            "Requirement already satisfied: wcwidth in /usr/local/lib/python3.7/dist-packages (from prompt-toolkit<2.0.0,>=1.0.4->ipython->ipython-autotime) (0.2.5)\n",
            "Requirement already satisfied: ptyprocess>=0.5 in /usr/local/lib/python3.7/dist-packages (from pexpect; sys_platform != \"win32\"->ipython->ipython-autotime) (0.7.0)\n",
            "Requirement already satisfied: ipython-genutils in /usr/local/lib/python3.7/dist-packages (from traitlets>=4.2->ipython->ipython-autotime) (0.2.0)\n",
            "time: 113 µs (started: 2021-06-28 18:37:44 +00:00)\n"
          ],
          "name": "stdout"
        }
      ]
    },
    {
      "cell_type": "code",
      "metadata": {
        "colab": {
          "resources": {
            "http://localhost:8080/nbextensions/google.colab/files.js": {
              "data": "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",
              "ok": true,
              "headers": [
                [
                  "content-type",
                  "application/javascript"
                ]
              ],
              "status": 200,
              "status_text": ""
            }
          },
          "base_uri": "https://localhost:8080/",
          "height": 89
        },
        "id": "VnhmBqH6v_aE",
        "outputId": "fa2a88e0-79b5-4e7b-835e-833c9ed4d9b5"
      },
      "source": [
        "uploaded = files.upload()"
      ],
      "execution_count": 3,
      "outputs": [
        {
          "output_type": "display_data",
          "data": {
            "text/html": [
              "\n",
              "     <input type=\"file\" id=\"files-04d881e0-dfc7-42c9-924d-88b938588492\" name=\"files[]\" multiple disabled\n",
              "        style=\"border:none\" />\n",
              "     <output id=\"result-04d881e0-dfc7-42c9-924d-88b938588492\">\n",
              "      Upload widget is only available when the cell has been executed in the\n",
              "      current browser session. Please rerun this cell to enable.\n",
              "      </output>\n",
              "      <script src=\"/nbextensions/google.colab/files.js\"></script> "
            ],
            "text/plain": [
              "<IPython.core.display.HTML object>"
            ]
          },
          "metadata": {
            "tags": []
          }
        },
        {
          "output_type": "stream",
          "text": [
            "Saving citrus.csv to citrus (5).csv\n",
            "time: 42.5 s (started: 2021-06-28 18:37:44 +00:00)\n"
          ],
          "name": "stdout"
        }
      ]
    },
    {
      "cell_type": "code",
      "metadata": {
        "colab": {
          "base_uri": "https://localhost:8080/"
        },
        "id": "XE9YmeQ4vll-",
        "outputId": "15127632-8e11-4d8f-b8ee-88bfedf7e404"
      },
      "source": [
        "df = pd.read_csv('citrus.csv')"
      ],
      "execution_count": 4,
      "outputs": [
        {
          "output_type": "stream",
          "text": [
            "time: 13.4 ms (started: 2021-06-28 18:38:27 +00:00)\n"
          ],
          "name": "stdout"
        }
      ]
    },
    {
      "cell_type": "code",
      "metadata": {
        "colab": {
          "base_uri": "https://localhost:8080/",
          "height": 221
        },
        "id": "c90OjKAjvq0z",
        "outputId": "9a84fab5-82ee-4bf5-c0c7-272813add5c5"
      },
      "source": [
        "df.head()"
      ],
      "execution_count": 5,
      "outputs": [
        {
          "output_type": "execute_result",
          "data": {
            "text/html": [
              "<div>\n",
              "<style scoped>\n",
              "    .dataframe tbody tr th:only-of-type {\n",
              "        vertical-align: middle;\n",
              "    }\n",
              "\n",
              "    .dataframe tbody tr th {\n",
              "        vertical-align: top;\n",
              "    }\n",
              "\n",
              "    .dataframe thead th {\n",
              "        text-align: right;\n",
              "    }\n",
              "</style>\n",
              "<table border=\"1\" class=\"dataframe\">\n",
              "  <thead>\n",
              "    <tr style=\"text-align: right;\">\n",
              "      <th></th>\n",
              "      <th>name</th>\n",
              "      <th>diameter</th>\n",
              "      <th>weight</th>\n",
              "      <th>red</th>\n",
              "      <th>green</th>\n",
              "      <th>blue</th>\n",
              "    </tr>\n",
              "  </thead>\n",
              "  <tbody>\n",
              "    <tr>\n",
              "      <th>0</th>\n",
              "      <td>orange</td>\n",
              "      <td>2.96</td>\n",
              "      <td>86.76</td>\n",
              "      <td>172</td>\n",
              "      <td>85</td>\n",
              "      <td>2</td>\n",
              "    </tr>\n",
              "    <tr>\n",
              "      <th>1</th>\n",
              "      <td>orange</td>\n",
              "      <td>3.91</td>\n",
              "      <td>88.05</td>\n",
              "      <td>166</td>\n",
              "      <td>78</td>\n",
              "      <td>3</td>\n",
              "    </tr>\n",
              "    <tr>\n",
              "      <th>2</th>\n",
              "      <td>orange</td>\n",
              "      <td>4.42</td>\n",
              "      <td>95.17</td>\n",
              "      <td>156</td>\n",
              "      <td>81</td>\n",
              "      <td>2</td>\n",
              "    </tr>\n",
              "    <tr>\n",
              "      <th>3</th>\n",
              "      <td>orange</td>\n",
              "      <td>4.47</td>\n",
              "      <td>95.60</td>\n",
              "      <td>163</td>\n",
              "      <td>81</td>\n",
              "      <td>4</td>\n",
              "    </tr>\n",
              "    <tr>\n",
              "      <th>4</th>\n",
              "      <td>orange</td>\n",
              "      <td>4.48</td>\n",
              "      <td>95.76</td>\n",
              "      <td>161</td>\n",
              "      <td>72</td>\n",
              "      <td>9</td>\n",
              "    </tr>\n",
              "  </tbody>\n",
              "</table>\n",
              "</div>"
            ],
            "text/plain": [
              "     name  diameter  weight  red  green  blue\n",
              "0  orange      2.96   86.76  172     85     2\n",
              "1  orange      3.91   88.05  166     78     3\n",
              "2  orange      4.42   95.17  156     81     2\n",
              "3  orange      4.47   95.60  163     81     4\n",
              "4  orange      4.48   95.76  161     72     9"
            ]
          },
          "metadata": {
            "tags": []
          },
          "execution_count": 5
        },
        {
          "output_type": "stream",
          "text": [
            "time: 19.5 ms (started: 2021-06-28 18:38:27 +00:00)\n"
          ],
          "name": "stdout"
        }
      ]
    },
    {
      "cell_type": "code",
      "metadata": {
        "colab": {
          "base_uri": "https://localhost:8080/",
          "height": 221
        },
        "id": "GHvH9VfpwRxo",
        "outputId": "2c4d0c54-c0cc-4b41-903c-34b7eacbdf0f"
      },
      "source": [
        "df.tail()"
      ],
      "execution_count": 6,
      "outputs": [
        {
          "output_type": "execute_result",
          "data": {
            "text/html": [
              "<div>\n",
              "<style scoped>\n",
              "    .dataframe tbody tr th:only-of-type {\n",
              "        vertical-align: middle;\n",
              "    }\n",
              "\n",
              "    .dataframe tbody tr th {\n",
              "        vertical-align: top;\n",
              "    }\n",
              "\n",
              "    .dataframe thead th {\n",
              "        text-align: right;\n",
              "    }\n",
              "</style>\n",
              "<table border=\"1\" class=\"dataframe\">\n",
              "  <thead>\n",
              "    <tr style=\"text-align: right;\">\n",
              "      <th></th>\n",
              "      <th>name</th>\n",
              "      <th>diameter</th>\n",
              "      <th>weight</th>\n",
              "      <th>red</th>\n",
              "      <th>green</th>\n",
              "      <th>blue</th>\n",
              "    </tr>\n",
              "  </thead>\n",
              "  <tbody>\n",
              "    <tr>\n",
              "      <th>9995</th>\n",
              "      <td>grapefruit</td>\n",
              "      <td>15.35</td>\n",
              "      <td>253.89</td>\n",
              "      <td>149</td>\n",
              "      <td>77</td>\n",
              "      <td>20</td>\n",
              "    </tr>\n",
              "    <tr>\n",
              "      <th>9996</th>\n",
              "      <td>grapefruit</td>\n",
              "      <td>15.41</td>\n",
              "      <td>254.67</td>\n",
              "      <td>148</td>\n",
              "      <td>68</td>\n",
              "      <td>7</td>\n",
              "    </tr>\n",
              "    <tr>\n",
              "      <th>9997</th>\n",
              "      <td>grapefruit</td>\n",
              "      <td>15.59</td>\n",
              "      <td>256.50</td>\n",
              "      <td>168</td>\n",
              "      <td>82</td>\n",
              "      <td>20</td>\n",
              "    </tr>\n",
              "    <tr>\n",
              "      <th>9998</th>\n",
              "      <td>grapefruit</td>\n",
              "      <td>15.92</td>\n",
              "      <td>260.14</td>\n",
              "      <td>142</td>\n",
              "      <td>72</td>\n",
              "      <td>11</td>\n",
              "    </tr>\n",
              "    <tr>\n",
              "      <th>9999</th>\n",
              "      <td>grapefruit</td>\n",
              "      <td>16.45</td>\n",
              "      <td>261.51</td>\n",
              "      <td>152</td>\n",
              "      <td>74</td>\n",
              "      <td>2</td>\n",
              "    </tr>\n",
              "  </tbody>\n",
              "</table>\n",
              "</div>"
            ],
            "text/plain": [
              "            name  diameter  weight  red  green  blue\n",
              "9995  grapefruit     15.35  253.89  149     77    20\n",
              "9996  grapefruit     15.41  254.67  148     68     7\n",
              "9997  grapefruit     15.59  256.50  168     82    20\n",
              "9998  grapefruit     15.92  260.14  142     72    11\n",
              "9999  grapefruit     16.45  261.51  152     74     2"
            ]
          },
          "metadata": {
            "tags": []
          },
          "execution_count": 6
        },
        {
          "output_type": "stream",
          "text": [
            "time: 24.8 ms (started: 2021-06-28 18:38:27 +00:00)\n"
          ],
          "name": "stdout"
        }
      ]
    },
    {
      "cell_type": "code",
      "metadata": {
        "colab": {
          "base_uri": "https://localhost:8080/"
        },
        "id": "QmxoxLRowTGC",
        "outputId": "a60731c8-4ae9-4dce-9759-1bf207b49ca9"
      },
      "source": [
        "df.dtypes"
      ],
      "execution_count": 7,
      "outputs": [
        {
          "output_type": "execute_result",
          "data": {
            "text/plain": [
              "name         object\n",
              "diameter    float64\n",
              "weight      float64\n",
              "red           int64\n",
              "green         int64\n",
              "blue          int64\n",
              "dtype: object"
            ]
          },
          "metadata": {
            "tags": []
          },
          "execution_count": 7
        },
        {
          "output_type": "stream",
          "text": [
            "time: 8.5 ms (started: 2021-06-28 18:38:27 +00:00)\n"
          ],
          "name": "stdout"
        }
      ]
    },
    {
      "cell_type": "code",
      "metadata": {
        "colab": {
          "base_uri": "https://localhost:8080/"
        },
        "id": "jrcNwxP8wbX8",
        "outputId": "38ae6783-5eda-4c4b-b295-982725139d96"
      },
      "source": [
        "df.info()"
      ],
      "execution_count": 8,
      "outputs": [
        {
          "output_type": "stream",
          "text": [
            "<class 'pandas.core.frame.DataFrame'>\n",
            "RangeIndex: 10000 entries, 0 to 9999\n",
            "Data columns (total 6 columns):\n",
            " #   Column    Non-Null Count  Dtype  \n",
            "---  ------    --------------  -----  \n",
            " 0   name      10000 non-null  object \n",
            " 1   diameter  10000 non-null  float64\n",
            " 2   weight    10000 non-null  float64\n",
            " 3   red       10000 non-null  int64  \n",
            " 4   green     10000 non-null  int64  \n",
            " 5   blue      10000 non-null  int64  \n",
            "dtypes: float64(2), int64(3), object(1)\n",
            "memory usage: 468.9+ KB\n",
            "time: 11.6 ms (started: 2021-06-28 18:38:27 +00:00)\n"
          ],
          "name": "stdout"
        }
      ]
    },
    {
      "cell_type": "markdown",
      "metadata": {
        "id": "KnLUgXU0woqt"
      },
      "source": [
        "Mengubah string yang ada pada kolom 'name' menjadi bilangan numerik"
      ]
    },
    {
      "cell_type": "code",
      "metadata": {
        "colab": {
          "base_uri": "https://localhost:8080/"
        },
        "id": "4tu50GpjwcsW",
        "outputId": "7ebd57b3-3ddc-45c0-c3bb-548320cf7f40"
      },
      "source": [
        "df['name'][df['name'] == 'orange'] = 0 \n",
        "df['name'][df['name'] == 'grapefruit'] = 1"
      ],
      "execution_count": 9,
      "outputs": [
        {
          "output_type": "stream",
          "text": [
            "time: 10.3 ms (started: 2021-06-28 18:38:27 +00:00)\n"
          ],
          "name": "stdout"
        },
        {
          "output_type": "stream",
          "text": [
            "/usr/local/lib/python3.7/dist-packages/ipykernel_launcher.py:1: SettingWithCopyWarning: \n",
            "A value is trying to be set on a copy of a slice from a DataFrame\n",
            "\n",
            "See the caveats in the documentation: https://pandas.pydata.org/pandas-docs/stable/user_guide/indexing.html#returning-a-view-versus-a-copy\n",
            "  \"\"\"Entry point for launching an IPython kernel.\n",
            "/usr/local/lib/python3.7/dist-packages/ipykernel_launcher.py:2: SettingWithCopyWarning: \n",
            "A value is trying to be set on a copy of a slice from a DataFrame\n",
            "\n",
            "See the caveats in the documentation: https://pandas.pydata.org/pandas-docs/stable/user_guide/indexing.html#returning-a-view-versus-a-copy\n",
            "  \n"
          ],
          "name": "stderr"
        }
      ]
    },
    {
      "cell_type": "code",
      "metadata": {
        "colab": {
          "base_uri": "https://localhost:8080/",
          "height": 221
        },
        "id": "5L3Nx5eUw1MK",
        "outputId": "b7c28e93-7350-481b-a4bf-9797b8d444a4"
      },
      "source": [
        "df.head()"
      ],
      "execution_count": 10,
      "outputs": [
        {
          "output_type": "execute_result",
          "data": {
            "text/html": [
              "<div>\n",
              "<style scoped>\n",
              "    .dataframe tbody tr th:only-of-type {\n",
              "        vertical-align: middle;\n",
              "    }\n",
              "\n",
              "    .dataframe tbody tr th {\n",
              "        vertical-align: top;\n",
              "    }\n",
              "\n",
              "    .dataframe thead th {\n",
              "        text-align: right;\n",
              "    }\n",
              "</style>\n",
              "<table border=\"1\" class=\"dataframe\">\n",
              "  <thead>\n",
              "    <tr style=\"text-align: right;\">\n",
              "      <th></th>\n",
              "      <th>name</th>\n",
              "      <th>diameter</th>\n",
              "      <th>weight</th>\n",
              "      <th>red</th>\n",
              "      <th>green</th>\n",
              "      <th>blue</th>\n",
              "    </tr>\n",
              "  </thead>\n",
              "  <tbody>\n",
              "    <tr>\n",
              "      <th>0</th>\n",
              "      <td>0</td>\n",
              "      <td>2.96</td>\n",
              "      <td>86.76</td>\n",
              "      <td>172</td>\n",
              "      <td>85</td>\n",
              "      <td>2</td>\n",
              "    </tr>\n",
              "    <tr>\n",
              "      <th>1</th>\n",
              "      <td>0</td>\n",
              "      <td>3.91</td>\n",
              "      <td>88.05</td>\n",
              "      <td>166</td>\n",
              "      <td>78</td>\n",
              "      <td>3</td>\n",
              "    </tr>\n",
              "    <tr>\n",
              "      <th>2</th>\n",
              "      <td>0</td>\n",
              "      <td>4.42</td>\n",
              "      <td>95.17</td>\n",
              "      <td>156</td>\n",
              "      <td>81</td>\n",
              "      <td>2</td>\n",
              "    </tr>\n",
              "    <tr>\n",
              "      <th>3</th>\n",
              "      <td>0</td>\n",
              "      <td>4.47</td>\n",
              "      <td>95.60</td>\n",
              "      <td>163</td>\n",
              "      <td>81</td>\n",
              "      <td>4</td>\n",
              "    </tr>\n",
              "    <tr>\n",
              "      <th>4</th>\n",
              "      <td>0</td>\n",
              "      <td>4.48</td>\n",
              "      <td>95.76</td>\n",
              "      <td>161</td>\n",
              "      <td>72</td>\n",
              "      <td>9</td>\n",
              "    </tr>\n",
              "  </tbody>\n",
              "</table>\n",
              "</div>"
            ],
            "text/plain": [
              "  name  diameter  weight  red  green  blue\n",
              "0    0      2.96   86.76  172     85     2\n",
              "1    0      3.91   88.05  166     78     3\n",
              "2    0      4.42   95.17  156     81     2\n",
              "3    0      4.47   95.60  163     81     4\n",
              "4    0      4.48   95.76  161     72     9"
            ]
          },
          "metadata": {
            "tags": []
          },
          "execution_count": 10
        },
        {
          "output_type": "stream",
          "text": [
            "time: 18.7 ms (started: 2021-06-28 18:38:27 +00:00)\n"
          ],
          "name": "stdout"
        }
      ]
    },
    {
      "cell_type": "code",
      "metadata": {
        "colab": {
          "base_uri": "https://localhost:8080/",
          "height": 221
        },
        "id": "jjdydNv4w4zq",
        "outputId": "fe421a51-62f4-4ed0-fb32-38a68a833540"
      },
      "source": [
        "df.tail()"
      ],
      "execution_count": 11,
      "outputs": [
        {
          "output_type": "execute_result",
          "data": {
            "text/html": [
              "<div>\n",
              "<style scoped>\n",
              "    .dataframe tbody tr th:only-of-type {\n",
              "        vertical-align: middle;\n",
              "    }\n",
              "\n",
              "    .dataframe tbody tr th {\n",
              "        vertical-align: top;\n",
              "    }\n",
              "\n",
              "    .dataframe thead th {\n",
              "        text-align: right;\n",
              "    }\n",
              "</style>\n",
              "<table border=\"1\" class=\"dataframe\">\n",
              "  <thead>\n",
              "    <tr style=\"text-align: right;\">\n",
              "      <th></th>\n",
              "      <th>name</th>\n",
              "      <th>diameter</th>\n",
              "      <th>weight</th>\n",
              "      <th>red</th>\n",
              "      <th>green</th>\n",
              "      <th>blue</th>\n",
              "    </tr>\n",
              "  </thead>\n",
              "  <tbody>\n",
              "    <tr>\n",
              "      <th>9995</th>\n",
              "      <td>1</td>\n",
              "      <td>15.35</td>\n",
              "      <td>253.89</td>\n",
              "      <td>149</td>\n",
              "      <td>77</td>\n",
              "      <td>20</td>\n",
              "    </tr>\n",
              "    <tr>\n",
              "      <th>9996</th>\n",
              "      <td>1</td>\n",
              "      <td>15.41</td>\n",
              "      <td>254.67</td>\n",
              "      <td>148</td>\n",
              "      <td>68</td>\n",
              "      <td>7</td>\n",
              "    </tr>\n",
              "    <tr>\n",
              "      <th>9997</th>\n",
              "      <td>1</td>\n",
              "      <td>15.59</td>\n",
              "      <td>256.50</td>\n",
              "      <td>168</td>\n",
              "      <td>82</td>\n",
              "      <td>20</td>\n",
              "    </tr>\n",
              "    <tr>\n",
              "      <th>9998</th>\n",
              "      <td>1</td>\n",
              "      <td>15.92</td>\n",
              "      <td>260.14</td>\n",
              "      <td>142</td>\n",
              "      <td>72</td>\n",
              "      <td>11</td>\n",
              "    </tr>\n",
              "    <tr>\n",
              "      <th>9999</th>\n",
              "      <td>1</td>\n",
              "      <td>16.45</td>\n",
              "      <td>261.51</td>\n",
              "      <td>152</td>\n",
              "      <td>74</td>\n",
              "      <td>2</td>\n",
              "    </tr>\n",
              "  </tbody>\n",
              "</table>\n",
              "</div>"
            ],
            "text/plain": [
              "     name  diameter  weight  red  green  blue\n",
              "9995    1     15.35  253.89  149     77    20\n",
              "9996    1     15.41  254.67  148     68     7\n",
              "9997    1     15.59  256.50  168     82    20\n",
              "9998    1     15.92  260.14  142     72    11\n",
              "9999    1     16.45  261.51  152     74     2"
            ]
          },
          "metadata": {
            "tags": []
          },
          "execution_count": 11
        },
        {
          "output_type": "stream",
          "text": [
            "time: 19 ms (started: 2021-06-28 18:38:27 +00:00)\n"
          ],
          "name": "stdout"
        }
      ]
    },
    {
      "cell_type": "code",
      "metadata": {
        "colab": {
          "base_uri": "https://localhost:8080/"
        },
        "id": "1i5OY4ozxlDR",
        "outputId": "8104f091-f5e5-43ab-c79c-24c8e33b7d6d"
      },
      "source": [
        "value = df.values\n",
        "value"
      ],
      "execution_count": 12,
      "outputs": [
        {
          "output_type": "execute_result",
          "data": {
            "text/plain": [
              "array([[0, 2.96, 86.76, 172, 85, 2],\n",
              "       [0, 3.91, 88.05, 166, 78, 3],\n",
              "       [0, 4.42, 95.17, 156, 81, 2],\n",
              "       ...,\n",
              "       [1, 15.59, 256.5, 168, 82, 20],\n",
              "       [1, 15.92, 260.14, 142, 72, 11],\n",
              "       [1, 16.45, 261.51, 152, 74, 2]], dtype=object)"
            ]
          },
          "metadata": {
            "tags": []
          },
          "execution_count": 12
        },
        {
          "output_type": "stream",
          "text": [
            "time: 5.35 ms (started: 2021-06-28 18:38:27 +00:00)\n"
          ],
          "name": "stdout"
        }
      ]
    },
    {
      "cell_type": "markdown",
      "metadata": {
        "id": "P5OLs62rx_ma"
      },
      "source": [
        "Kolom 1 atau kolom 'name' sebagai label dan kolom sisanya sebagai fitur"
      ]
    },
    {
      "cell_type": "code",
      "metadata": {
        "colab": {
          "base_uri": "https://localhost:8080/"
        },
        "id": "37QZ9J2vx8bm",
        "outputId": "be82fdc3-d090-4213-fe3f-6e08cf5ec085"
      },
      "source": [
        "X = value[:, 1:6]\n",
        "Y = value[:, 0]"
      ],
      "execution_count": 13,
      "outputs": [
        {
          "output_type": "stream",
          "text": [
            "time: 1.09 ms (started: 2021-06-28 18:38:27 +00:00)\n"
          ],
          "name": "stdout"
        }
      ]
    },
    {
      "cell_type": "code",
      "metadata": {
        "colab": {
          "base_uri": "https://localhost:8080/"
        },
        "id": "hsWmzfjAyOkh",
        "outputId": "a2fc9138-a682-4255-976d-5f0ff8eecf64"
      },
      "source": [
        "X"
      ],
      "execution_count": 14,
      "outputs": [
        {
          "output_type": "execute_result",
          "data": {
            "text/plain": [
              "array([[2.96, 86.76, 172, 85, 2],\n",
              "       [3.91, 88.05, 166, 78, 3],\n",
              "       [4.42, 95.17, 156, 81, 2],\n",
              "       ...,\n",
              "       [15.59, 256.5, 168, 82, 20],\n",
              "       [15.92, 260.14, 142, 72, 11],\n",
              "       [16.45, 261.51, 152, 74, 2]], dtype=object)"
            ]
          },
          "metadata": {
            "tags": []
          },
          "execution_count": 14
        },
        {
          "output_type": "stream",
          "text": [
            "time: 3.8 ms (started: 2021-06-28 18:38:27 +00:00)\n"
          ],
          "name": "stdout"
        }
      ]
    },
    {
      "cell_type": "code",
      "metadata": {
        "colab": {
          "base_uri": "https://localhost:8080/"
        },
        "id": "oushB7zqyPnz",
        "outputId": "f625726d-32d6-48e7-ac62-a13f55c9efb6"
      },
      "source": [
        "Y"
      ],
      "execution_count": 15,
      "outputs": [
        {
          "output_type": "execute_result",
          "data": {
            "text/plain": [
              "array([0, 0, 0, ..., 1, 1, 1], dtype=object)"
            ]
          },
          "metadata": {
            "tags": []
          },
          "execution_count": 15
        },
        {
          "output_type": "stream",
          "text": [
            "time: 3.67 ms (started: 2021-06-28 18:38:27 +00:00)\n"
          ],
          "name": "stdout"
        }
      ]
    },
    {
      "cell_type": "markdown",
      "metadata": {
        "id": "PhKN_QuVyTCq"
      },
      "source": [
        "NN bekerja dengan baik pada rentang 0-1, oleh karena itu kita perlu mengubah nilai pada fitur menggunakan MinMaxScaler"
      ]
    },
    {
      "cell_type": "code",
      "metadata": {
        "colab": {
          "base_uri": "https://localhost:8080/"
        },
        "id": "y0agVBrvyRC2",
        "outputId": "5037cded-fa5f-476b-d18e-5538c861e2cc"
      },
      "source": [
        "from sklearn.preprocessing import MinMaxScaler\n",
        "\n",
        "scaler = MinMaxScaler()\n",
        "\n",
        "X_scaler = scaler.fit_transform(X)\n",
        "X_scaler"
      ],
      "execution_count": 16,
      "outputs": [
        {
          "output_type": "execute_result",
          "data": {
            "text/plain": [
              "array([[0.        , 0.        , 0.74025974, 0.63529412, 0.        ],\n",
              "       [0.07042254, 0.00738197, 0.66233766, 0.55294118, 0.01851852],\n",
              "       [0.10822832, 0.04812589, 0.53246753, 0.58823529, 0.        ],\n",
              "       ...,\n",
              "       [0.93624907, 0.97133047, 0.68831169, 0.6       , 0.33333333],\n",
              "       [0.96071164, 0.99216023, 0.35064935, 0.48235294, 0.16666667],\n",
              "       [1.        , 1.        , 0.48051948, 0.50588235, 0.        ]])"
            ]
          },
          "metadata": {
            "tags": []
          },
          "execution_count": 16
        },
        {
          "output_type": "stream",
          "text": [
            "time: 313 ms (started: 2021-06-28 18:38:27 +00:00)\n"
          ],
          "name": "stdout"
        }
      ]
    },
    {
      "cell_type": "markdown",
      "metadata": {
        "id": "eXl9VKdiyrUC"
      },
      "source": [
        "Akan dipisahkan data sebagai data train dan data test"
      ]
    },
    {
      "cell_type": "code",
      "metadata": {
        "colab": {
          "base_uri": "https://localhost:8080/"
        },
        "id": "1aGKo9RCyoWS",
        "outputId": "170658e0-7aed-42bd-8af3-0932e226959e"
      },
      "source": [
        "from sklearn.model_selection import train_test_split\n",
        "\n",
        "X_train, X_test, Y_train, Y_test = train_test_split(X_scaler, Y, test_size = 0.3, random_state = 0)"
      ],
      "execution_count": 17,
      "outputs": [
        {
          "output_type": "stream",
          "text": [
            "time: 16.2 ms (started: 2021-06-28 18:38:27 +00:00)\n"
          ],
          "name": "stdout"
        }
      ]
    },
    {
      "cell_type": "code",
      "metadata": {
        "colab": {
          "base_uri": "https://localhost:8080/"
        },
        "id": "h1EMQBqHzFoq",
        "outputId": "b4b0339b-82d0-42be-c4e2-ed45fc30792f"
      },
      "source": [
        "Y_train = Y_train.astype('float32')\n",
        "Y_test = Y_test.astype('float32')"
      ],
      "execution_count": 18,
      "outputs": [
        {
          "output_type": "stream",
          "text": [
            "time: 1.71 ms (started: 2021-06-28 18:38:27 +00:00)\n"
          ],
          "name": "stdout"
        }
      ]
    },
    {
      "cell_type": "code",
      "metadata": {
        "colab": {
          "base_uri": "https://localhost:8080/"
        },
        "id": "4vqUriGszOz6",
        "outputId": "de816893-1a39-43dd-ded1-80b8e4e46bba"
      },
      "source": [
        "model = tf.keras.models.Sequential([\n",
        "                                    tf.keras.layers.Dense(units=32, activation='relu', input_shape=(5,)),\n",
        "                                    tf.keras.layers.Dense(units=32, activation='relu'),\n",
        "                                    tf.keras.layers.Dense(units=1, activation='sigmoid')\n",
        "])"
      ],
      "execution_count": 19,
      "outputs": [
        {
          "output_type": "stream",
          "text": [
            "time: 49 ms (started: 2021-06-28 18:38:27 +00:00)\n"
          ],
          "name": "stdout"
        }
      ]
    },
    {
      "cell_type": "code",
      "metadata": {
        "colab": {
          "base_uri": "https://localhost:8080/"
        },
        "id": "6mFfaUIH0Gfb",
        "outputId": "c2031a2c-e9e8-4671-8411-e1b5e97a3b4d"
      },
      "source": [
        "model.summary()"
      ],
      "execution_count": 20,
      "outputs": [
        {
          "output_type": "stream",
          "text": [
            "Model: \"sequential\"\n",
            "_________________________________________________________________\n",
            "Layer (type)                 Output Shape              Param #   \n",
            "=================================================================\n",
            "dense (Dense)                (None, 32)                192       \n",
            "_________________________________________________________________\n",
            "dense_1 (Dense)              (None, 32)                1056      \n",
            "_________________________________________________________________\n",
            "dense_2 (Dense)              (None, 1)                 33        \n",
            "=================================================================\n",
            "Total params: 1,281\n",
            "Trainable params: 1,281\n",
            "Non-trainable params: 0\n",
            "_________________________________________________________________\n",
            "time: 7.14 ms (started: 2021-06-28 18:38:27 +00:00)\n"
          ],
          "name": "stdout"
        }
      ]
    },
    {
      "cell_type": "code",
      "metadata": {
        "colab": {
          "base_uri": "https://localhost:8080/"
        },
        "id": "cfbVRS8t0KwR",
        "outputId": "b315cb1f-eebe-4a56-f4de-93f49a7d9eee"
      },
      "source": [
        "model.compile(\n",
        "    optimizer='sgd',\n",
        "    loss = 'binary_crossentropy',\n",
        "    metrics = ['accuracy']\n",
        ")"
      ],
      "execution_count": 21,
      "outputs": [
        {
          "output_type": "stream",
          "text": [
            "time: 12.5 ms (started: 2021-06-28 18:38:27 +00:00)\n"
          ],
          "name": "stdout"
        }
      ]
    },
    {
      "cell_type": "code",
      "metadata": {
        "colab": {
          "base_uri": "https://localhost:8080/"
        },
        "id": "hiYNPxVV0hOQ",
        "outputId": "d5b8fd41-5d5e-4ca6-d061-c26453373b42"
      },
      "source": [
        "history = model.fit(\n",
        "    X_train,\n",
        "    Y_train,\n",
        "    epochs = 100\n",
        ")"
      ],
      "execution_count": 22,
      "outputs": [
        {
          "output_type": "stream",
          "text": [
            "Epoch 1/100\n",
            "219/219 [==============================] - 1s 852us/step - loss: 0.6500 - accuracy: 0.7361\n",
            "Epoch 2/100\n",
            "219/219 [==============================] - 0s 831us/step - loss: 0.5551 - accuracy: 0.8913\n",
            "Epoch 3/100\n",
            "219/219 [==============================] - 0s 1ms/step - loss: 0.4507 - accuracy: 0.9203\n",
            "Epoch 4/100\n",
            "219/219 [==============================] - 0s 1ms/step - loss: 0.3585 - accuracy: 0.9249\n",
            "Epoch 5/100\n",
            "219/219 [==============================] - 0s 885us/step - loss: 0.2903 - accuracy: 0.9281\n",
            "Epoch 6/100\n",
            "219/219 [==============================] - 0s 884us/step - loss: 0.2481 - accuracy: 0.9256\n",
            "Epoch 7/100\n",
            "219/219 [==============================] - 0s 880us/step - loss: 0.2229 - accuracy: 0.9259\n",
            "Epoch 8/100\n",
            "219/219 [==============================] - 0s 836us/step - loss: 0.2080 - accuracy: 0.9269\n",
            "Epoch 9/100\n",
            "219/219 [==============================] - 0s 836us/step - loss: 0.1984 - accuracy: 0.9273\n",
            "Epoch 10/100\n",
            "219/219 [==============================] - 0s 816us/step - loss: 0.1926 - accuracy: 0.9281\n",
            "Epoch 11/100\n",
            "219/219 [==============================] - 0s 824us/step - loss: 0.1890 - accuracy: 0.9260\n",
            "Epoch 12/100\n",
            "219/219 [==============================] - 0s 755us/step - loss: 0.1867 - accuracy: 0.9280\n",
            "Epoch 13/100\n",
            "219/219 [==============================] - 0s 807us/step - loss: 0.1848 - accuracy: 0.9283\n",
            "Epoch 14/100\n",
            "219/219 [==============================] - 0s 786us/step - loss: 0.1834 - accuracy: 0.9283\n",
            "Epoch 15/100\n",
            "219/219 [==============================] - 0s 886us/step - loss: 0.1830 - accuracy: 0.9286\n",
            "Epoch 16/100\n",
            "219/219 [==============================] - 0s 887us/step - loss: 0.1818 - accuracy: 0.9277\n",
            "Epoch 17/100\n",
            "219/219 [==============================] - 0s 767us/step - loss: 0.1817 - accuracy: 0.9277\n",
            "Epoch 18/100\n",
            "219/219 [==============================] - 0s 835us/step - loss: 0.1814 - accuracy: 0.9290\n",
            "Epoch 19/100\n",
            "219/219 [==============================] - 0s 821us/step - loss: 0.1808 - accuracy: 0.9291\n",
            "Epoch 20/100\n",
            "219/219 [==============================] - 0s 831us/step - loss: 0.1808 - accuracy: 0.9269\n",
            "Epoch 21/100\n",
            "219/219 [==============================] - 0s 865us/step - loss: 0.1810 - accuracy: 0.9280\n",
            "Epoch 22/100\n",
            "219/219 [==============================] - 0s 854us/step - loss: 0.1806 - accuracy: 0.9291\n",
            "Epoch 23/100\n",
            "219/219 [==============================] - 0s 802us/step - loss: 0.1809 - accuracy: 0.9277\n",
            "Epoch 24/100\n",
            "219/219 [==============================] - 0s 911us/step - loss: 0.1805 - accuracy: 0.9276\n",
            "Epoch 25/100\n",
            "219/219 [==============================] - 0s 861us/step - loss: 0.1805 - accuracy: 0.9279\n",
            "Epoch 26/100\n",
            "219/219 [==============================] - 0s 826us/step - loss: 0.1805 - accuracy: 0.9277\n",
            "Epoch 27/100\n",
            "219/219 [==============================] - 0s 850us/step - loss: 0.1803 - accuracy: 0.9287\n",
            "Epoch 28/100\n",
            "219/219 [==============================] - 0s 861us/step - loss: 0.1805 - accuracy: 0.9287\n",
            "Epoch 29/100\n",
            "219/219 [==============================] - 0s 926us/step - loss: 0.1795 - accuracy: 0.9284\n",
            "Epoch 30/100\n",
            "219/219 [==============================] - 0s 832us/step - loss: 0.1802 - accuracy: 0.9279\n",
            "Epoch 31/100\n",
            "219/219 [==============================] - 0s 848us/step - loss: 0.1800 - accuracy: 0.9283\n",
            "Epoch 32/100\n",
            "219/219 [==============================] - 0s 805us/step - loss: 0.1799 - accuracy: 0.9293\n",
            "Epoch 33/100\n",
            "219/219 [==============================] - 0s 800us/step - loss: 0.1802 - accuracy: 0.9281\n",
            "Epoch 34/100\n",
            "219/219 [==============================] - 0s 851us/step - loss: 0.1801 - accuracy: 0.9287\n",
            "Epoch 35/100\n",
            "219/219 [==============================] - 0s 816us/step - loss: 0.1799 - accuracy: 0.9281\n",
            "Epoch 36/100\n",
            "219/219 [==============================] - 0s 832us/step - loss: 0.1802 - accuracy: 0.9286\n",
            "Epoch 37/100\n",
            "219/219 [==============================] - 0s 842us/step - loss: 0.1800 - accuracy: 0.9289\n",
            "Epoch 38/100\n",
            "219/219 [==============================] - 0s 792us/step - loss: 0.1796 - accuracy: 0.9289\n",
            "Epoch 39/100\n",
            "219/219 [==============================] - 0s 790us/step - loss: 0.1794 - accuracy: 0.9280\n",
            "Epoch 40/100\n",
            "219/219 [==============================] - 0s 879us/step - loss: 0.1798 - accuracy: 0.9290\n",
            "Epoch 41/100\n",
            "219/219 [==============================] - 0s 923us/step - loss: 0.1801 - accuracy: 0.9289\n",
            "Epoch 42/100\n",
            "219/219 [==============================] - 0s 855us/step - loss: 0.1797 - accuracy: 0.9284\n",
            "Epoch 43/100\n",
            "219/219 [==============================] - 0s 851us/step - loss: 0.1800 - accuracy: 0.9293\n",
            "Epoch 44/100\n",
            "219/219 [==============================] - 0s 836us/step - loss: 0.1801 - accuracy: 0.9277\n",
            "Epoch 45/100\n",
            "219/219 [==============================] - 0s 842us/step - loss: 0.1797 - accuracy: 0.9274\n",
            "Epoch 46/100\n",
            "219/219 [==============================] - 0s 829us/step - loss: 0.1801 - accuracy: 0.9286\n",
            "Epoch 47/100\n",
            "219/219 [==============================] - 0s 836us/step - loss: 0.1796 - accuracy: 0.9271\n",
            "Epoch 48/100\n",
            "219/219 [==============================] - 0s 840us/step - loss: 0.1797 - accuracy: 0.9293\n",
            "Epoch 49/100\n",
            "219/219 [==============================] - 0s 881us/step - loss: 0.1796 - accuracy: 0.9287\n",
            "Epoch 50/100\n",
            "219/219 [==============================] - 0s 914us/step - loss: 0.1796 - accuracy: 0.9281\n",
            "Epoch 51/100\n",
            "219/219 [==============================] - 0s 818us/step - loss: 0.1793 - accuracy: 0.9287\n",
            "Epoch 52/100\n",
            "219/219 [==============================] - 0s 874us/step - loss: 0.1789 - accuracy: 0.9281\n",
            "Epoch 53/100\n",
            "219/219 [==============================] - 0s 896us/step - loss: 0.1794 - accuracy: 0.9283\n",
            "Epoch 54/100\n",
            "219/219 [==============================] - 0s 811us/step - loss: 0.1796 - accuracy: 0.9286\n",
            "Epoch 55/100\n",
            "219/219 [==============================] - 0s 960us/step - loss: 0.1798 - accuracy: 0.9287\n",
            "Epoch 56/100\n",
            "219/219 [==============================] - 0s 909us/step - loss: 0.1799 - accuracy: 0.9279\n",
            "Epoch 57/100\n",
            "219/219 [==============================] - 0s 861us/step - loss: 0.1794 - accuracy: 0.9277\n",
            "Epoch 58/100\n",
            "219/219 [==============================] - 0s 867us/step - loss: 0.1796 - accuracy: 0.9286\n",
            "Epoch 59/100\n",
            "219/219 [==============================] - 0s 881us/step - loss: 0.1794 - accuracy: 0.9299\n",
            "Epoch 60/100\n",
            "219/219 [==============================] - 0s 811us/step - loss: 0.1797 - accuracy: 0.9296\n",
            "Epoch 61/100\n",
            "219/219 [==============================] - 0s 810us/step - loss: 0.1793 - accuracy: 0.9281\n",
            "Epoch 62/100\n",
            "219/219 [==============================] - 0s 875us/step - loss: 0.1793 - accuracy: 0.9290\n",
            "Epoch 63/100\n",
            "219/219 [==============================] - 0s 878us/step - loss: 0.1792 - accuracy: 0.9289\n",
            "Epoch 64/100\n",
            "219/219 [==============================] - 0s 844us/step - loss: 0.1794 - accuracy: 0.9276\n",
            "Epoch 65/100\n",
            "219/219 [==============================] - 0s 815us/step - loss: 0.1796 - accuracy: 0.9283\n",
            "Epoch 66/100\n",
            "219/219 [==============================] - 0s 871us/step - loss: 0.1792 - accuracy: 0.9274\n",
            "Epoch 67/100\n",
            "219/219 [==============================] - 0s 841us/step - loss: 0.1793 - accuracy: 0.9300\n",
            "Epoch 68/100\n",
            "219/219 [==============================] - 0s 987us/step - loss: 0.1792 - accuracy: 0.9294\n",
            "Epoch 69/100\n",
            "219/219 [==============================] - 0s 894us/step - loss: 0.1789 - accuracy: 0.9301\n",
            "Epoch 70/100\n",
            "219/219 [==============================] - 0s 832us/step - loss: 0.1788 - accuracy: 0.9290\n",
            "Epoch 71/100\n",
            "219/219 [==============================] - 0s 903us/step - loss: 0.1794 - accuracy: 0.9287\n",
            "Epoch 72/100\n",
            "219/219 [==============================] - 0s 839us/step - loss: 0.1789 - accuracy: 0.9284\n",
            "Epoch 73/100\n",
            "219/219 [==============================] - 0s 853us/step - loss: 0.1791 - accuracy: 0.9277\n",
            "Epoch 74/100\n",
            "219/219 [==============================] - 0s 864us/step - loss: 0.1793 - accuracy: 0.9284\n",
            "Epoch 75/100\n",
            "219/219 [==============================] - 0s 919us/step - loss: 0.1792 - accuracy: 0.9293\n",
            "Epoch 76/100\n",
            "219/219 [==============================] - 0s 888us/step - loss: 0.1790 - accuracy: 0.9287\n",
            "Epoch 77/100\n",
            "219/219 [==============================] - 0s 814us/step - loss: 0.1792 - accuracy: 0.9277\n",
            "Epoch 78/100\n",
            "219/219 [==============================] - 0s 880us/step - loss: 0.1789 - accuracy: 0.9287\n",
            "Epoch 79/100\n",
            "219/219 [==============================] - 0s 820us/step - loss: 0.1787 - accuracy: 0.9280\n",
            "Epoch 80/100\n",
            "219/219 [==============================] - 0s 838us/step - loss: 0.1790 - accuracy: 0.9290\n",
            "Epoch 81/100\n",
            "219/219 [==============================] - 0s 856us/step - loss: 0.1791 - accuracy: 0.9287\n",
            "Epoch 82/100\n",
            "219/219 [==============================] - 0s 825us/step - loss: 0.1790 - accuracy: 0.9279\n",
            "Epoch 83/100\n",
            "219/219 [==============================] - 0s 903us/step - loss: 0.1790 - accuracy: 0.9281\n",
            "Epoch 84/100\n",
            "219/219 [==============================] - 0s 891us/step - loss: 0.1786 - accuracy: 0.9270\n",
            "Epoch 85/100\n",
            "219/219 [==============================] - 0s 850us/step - loss: 0.1789 - accuracy: 0.9291\n",
            "Epoch 86/100\n",
            "219/219 [==============================] - 0s 852us/step - loss: 0.1789 - accuracy: 0.9289\n",
            "Epoch 87/100\n",
            "219/219 [==============================] - 0s 866us/step - loss: 0.1791 - accuracy: 0.9287\n",
            "Epoch 88/100\n",
            "219/219 [==============================] - 0s 820us/step - loss: 0.1788 - accuracy: 0.9294\n",
            "Epoch 89/100\n",
            "219/219 [==============================] - 0s 819us/step - loss: 0.1787 - accuracy: 0.9284\n",
            "Epoch 90/100\n",
            "219/219 [==============================] - 0s 880us/step - loss: 0.1787 - accuracy: 0.9284\n",
            "Epoch 91/100\n",
            "219/219 [==============================] - 0s 839us/step - loss: 0.1787 - accuracy: 0.9284\n",
            "Epoch 92/100\n",
            "219/219 [==============================] - 0s 969us/step - loss: 0.1784 - accuracy: 0.9283\n",
            "Epoch 93/100\n",
            "219/219 [==============================] - 0s 885us/step - loss: 0.1786 - accuracy: 0.9289\n",
            "Epoch 94/100\n",
            "219/219 [==============================] - 0s 874us/step - loss: 0.1788 - accuracy: 0.9281\n",
            "Epoch 95/100\n",
            "219/219 [==============================] - 0s 859us/step - loss: 0.1787 - accuracy: 0.9279\n",
            "Epoch 96/100\n",
            "219/219 [==============================] - 0s 854us/step - loss: 0.1786 - accuracy: 0.9290\n",
            "Epoch 97/100\n",
            "219/219 [==============================] - 0s 874us/step - loss: 0.1788 - accuracy: 0.9279\n",
            "Epoch 98/100\n",
            "219/219 [==============================] - 0s 962us/step - loss: 0.1788 - accuracy: 0.9276\n",
            "Epoch 99/100\n",
            "219/219 [==============================] - 0s 933us/step - loss: 0.1783 - accuracy: 0.9290\n",
            "Epoch 100/100\n",
            "219/219 [==============================] - 0s 809us/step - loss: 0.1786 - accuracy: 0.9281\n",
            "time: 20.9 s (started: 2021-06-28 18:38:27 +00:00)\n"
          ],
          "name": "stdout"
        }
      ]
    },
    {
      "cell_type": "code",
      "metadata": {
        "colab": {
          "base_uri": "https://localhost:8080/"
        },
        "id": "-c3QVx9R0vmy",
        "outputId": "839d663e-f2c8-4ae2-e9c5-c460bfa82701"
      },
      "source": [
        "model.evaluate(X_test, Y_test)"
      ],
      "execution_count": 23,
      "outputs": [
        {
          "output_type": "stream",
          "text": [
            "94/94 [==============================] - 0s 704us/step - loss: 0.1770 - accuracy: 0.9243\n"
          ],
          "name": "stdout"
        },
        {
          "output_type": "execute_result",
          "data": {
            "text/plain": [
              "[0.17702853679656982, 0.9243333339691162]"
            ]
          },
          "metadata": {
            "tags": []
          },
          "execution_count": 23
        },
        {
          "output_type": "stream",
          "text": [
            "time: 229 ms (started: 2021-06-28 18:38:48 +00:00)\n"
          ],
          "name": "stdout"
        }
      ]
    },
    {
      "cell_type": "code",
      "metadata": {
        "colab": {
          "base_uri": "https://localhost:8080/"
        },
        "id": "fHocEFgg4bDy",
        "outputId": "2978f684-3acf-4435-a517-63b7594432f0"
      },
      "source": [
        "def get_label(array):\n",
        "  prediction = model.predict([array])\n",
        "  if prediction == 0:\n",
        "    return print('The fruit is Citrus')\n",
        "  else:\n",
        "    return print('The fruit is Grapefruit')"
      ],
      "execution_count": 24,
      "outputs": [
        {
          "output_type": "stream",
          "text": [
            "time: 2.9 ms (started: 2021-06-28 18:38:48 +00:00)\n"
          ],
          "name": "stdout"
        }
      ]
    },
    {
      "cell_type": "code",
      "metadata": {
        "colab": {
          "base_uri": "https://localhost:8080/"
        },
        "id": "PvHAUQ1M5V9Q",
        "outputId": "f647db25-c3c4-4ce1-b950-5a4ffa983cf3"
      },
      "source": [
        "sample_1 = [4, 100, 180, 85, 4]\n",
        "sample_2 = [12, 200, 140, 70, 13]"
      ],
      "execution_count": 25,
      "outputs": [
        {
          "output_type": "stream",
          "text": [
            "time: 1.41 ms (started: 2021-06-28 18:38:48 +00:00)\n"
          ],
          "name": "stdout"
        }
      ]
    },
    {
      "cell_type": "code",
      "metadata": {
        "colab": {
          "base_uri": "https://localhost:8080/"
        },
        "id": "eNXLm4Qq5l6I",
        "outputId": "b6eaabd0-19bb-481f-e841-26ea8f468826"
      },
      "source": [
        "get_label(sample_1)"
      ],
      "execution_count": 26,
      "outputs": [
        {
          "output_type": "stream",
          "text": [
            "The fruit is Citrus\n",
            "time: 107 ms (started: 2021-06-28 18:38:48 +00:00)\n"
          ],
          "name": "stdout"
        }
      ]
    },
    {
      "cell_type": "code",
      "metadata": {
        "colab": {
          "base_uri": "https://localhost:8080/"
        },
        "id": "lJMRE1GV5o94",
        "outputId": "d130e567-1a48-449d-a3ff-eafd2083955c"
      },
      "source": [
        "get_label(sample_2)"
      ],
      "execution_count": 27,
      "outputs": [
        {
          "output_type": "stream",
          "text": [
            "The fruit is Grapefruit\n",
            "time: 46.4 ms (started: 2021-06-28 18:38:49 +00:00)\n"
          ],
          "name": "stdout"
        }
      ]
    }
  ]
}